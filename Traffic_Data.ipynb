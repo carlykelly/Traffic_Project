{
 "cells": [
  {
   "cell_type": "code",
   "execution_count": null,
   "metadata": {},
   "outputs": [],
   "source": [
    "import pandas as pd\n",
    "import matplotlib.pyplot as plt\n",
    "# Dependencies\n",
    "import requests\n",
    "import json\n",
    "\n",
    "# Google developer API key\n",
    "from config import gkey"
   ]
  },
  {
   "cell_type": "code",
   "execution_count": null,
   "metadata": {},
   "outputs": [],
   "source": [
    "traffic = pd.read_csv(\"Traffic_Monthly_Data/Moving_Violations_Issued_in_February_2019.csv\")"
   ]
  },
  {
   "cell_type": "code",
   "execution_count": null,
   "metadata": {},
   "outputs": [],
   "source": [
    "traffic_df = pd.DataFrame(traffic)\n",
    "traffic_cams = traffic_df[traffic_df['LOCATION'].str.contains(\"s/b\") | traffic_df['LOCATION'].str.contains(\"n/b\") |\n",
    "                         traffic_df['LOCATION'].str.contains(\"sw/b\") |traffic_df['LOCATION'].str.contains(\"nw/b\") |\n",
    "                         traffic_df['LOCATION'].str.contains(\"e/b\") |traffic_df['LOCATION'].str.contains(\"w/b\") |\n",
    "                         traffic_df['LOCATION'].str.contains(\"se/b\") |traffic_df['LOCATION'].str.contains(\"sw/b\") ]\n",
    "traffic_cams"
   ]
  },
  {
   "cell_type": "code",
   "execution_count": null,
   "metadata": {},
   "outputs": [],
   "source": [
    "test = traffic_cams.groupby(\"LOCATION\").count()"
   ]
  },
  {
   "cell_type": "code",
   "execution_count": null,
   "metadata": {},
   "outputs": [],
   "source": [
    "test"
   ]
  },
  {
   "cell_type": "code",
   "execution_count": null,
   "metadata": {},
   "outputs": [],
   "source": [
    "for index,row in traffic_cams.iterrows():\n",
    "    location = row[\"LOCATION\"]\n",
    "    geocode_url = 'https://maps.googleapis.com/maps/api/geocode/json'\n",
    "\n",
    "    params = {\n",
    "        'address': location,\n",
    "        'key': gkey\n",
    "    }\n",
    "    response = requests.get(geocode_url, params=params)\n",
    "    response = response.json()\n",
    "    zipcode = response[\"results\"][0][\"geometry\"][\"location\"][\"lat\"]\n"
   ]
  },
  {
   "cell_type": "code",
   "execution_count": null,
   "metadata": {},
   "outputs": [],
   "source": []
  },
  {
   "cell_type": "code",
   "execution_count": null,
   "metadata": {},
   "outputs": [],
   "source": []
  }
 ],
 "metadata": {
  "anaconda-cloud": {},
  "kernelspec": {
   "display_name": "Python 3",
   "language": "python",
   "name": "python3"
  },
  "language_info": {
   "codemirror_mode": {
    "name": "ipython",
    "version": 3
   },
   "file_extension": ".py",
   "mimetype": "text/x-python",
   "name": "python",
   "nbconvert_exporter": "python",
   "pygments_lexer": "ipython3",
   "version": "3.7.6"
  }
 },
 "nbformat": 4,
 "nbformat_minor": 2
}
