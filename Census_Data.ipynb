{
 "cells": [
  {
   "cell_type": "code",
   "execution_count": null,
   "metadata": {},
   "outputs": [],
   "source": [
    "# Dependencies\n",
    "! pip install census\n",
    "import numpy as np\n",
    "import pandas as pd\n",
    "import matplotlib.pyplot as plt\n",
    "import requests\n",
    "from census import Census\n",
    "#import gmaps\n",
    "\n",
    "# Census API Keys\n",
    "from config import (api_key)\n",
    "from config import gkey\n",
    "c = Census(api_key, year=2018)"
   ]
  },
  {
   "cell_type": "code",
   "execution_count": null,
   "metadata": {},
   "outputs": [],
   "source": [
    "# Run Census Search to retrieve data on all states\n",
    "# Note the addition of \"B23025_005E\" for unemployment count\n",
    "\n",
    "census_data = c.acs5.get((\"NAME\", \"B19013_001E\", \"B01003_001E\", \"B01002_001E\",\n",
    "                          \"B19301_001E\",\n",
    "                          \"B17001_002E\", \"B23025_005E\", \"B03001_003E\",\"B02001_003E\",\n",
    "                          \"B02001_005E\",\"B06009_005E\",\"B06009_006E\"), {'for': 'zip code tabulation area:*'})\n",
    "\n",
    "\n",
    "# Convert to DataFrame\n",
    "\n",
    "census_df = pd.DataFrame(census_data)\n",
    "\n",
    "# Column Reordering\n",
    "census_df = census_df.rename(columns={\"B01003_001E\": \"Population\",\n",
    "                                      \"B01002_001E\": \"Median Age\",\n",
    "                                      \"B19013_001E\": \"Household Income\",\n",
    "                                      \"B19301_001E\": \"Per Capita Income\",\n",
    "                                      \"B17001_002E\": \"Poverty Count\",\n",
    "                                      \"B23025_005E\": \"Unemployment Count\",\n",
    "                                      \"B03001_003E\": \"Number of Hispanic Residents\",\n",
    "                                      \"B02001_003E\": \"Number of African American Residents\",\n",
    "                                      \"B02001_005E\": \"Number of Asian Residents\",\n",
    "                                      \"B06009_005E\": \"Number of Residents w/Bachelor's Degree\",\n",
    "                                      \"B06009_006E\": \"Number of Residents w/Graduate Degree\",\n",
    "                                      \"NAME\": \"Name\", \"zip code tabulation area\": \"Zipcode\"})\n",
    "\n",
    "# Add in Poverty Rate (Poverty Count / Population)\n",
    "census_df[\"Poverty Rate\"] = census_df[\"Poverty Count\"]/census_df[\"Population\"]*100\n",
    "\n",
    "# Add in Employment Rate (Employment Count / Population)\n",
    "census_df[\"Unemployment Rate\"] = census_df[\"Unemployment Count\"]/census_df[\"Population\"]*100\n",
    "\n",
    "\n",
    "# Final DataFrame\n",
    "census_df = census_df.loc[(census_df['Zipcode'] == \"20007\")|(census_df['Zipcode'] == \"20016\")|\n",
    "                         (census_df['Zipcode'] == \"20008\")| (census_df['Zipcode'] == \"20009\")| (census_df['Zipcode'] == \"20010\")\n",
    "                         |(census_df['Zipcode'] == \"20011\")| (census_df['Zipcode'] == \"20012\")| (census_df['Zipcode'] == \"20013\")\n",
    "                         |(census_df['Zipcode'] == \"20390\")| (census_df['Zipcode'] == \"20015\")| (census_df['Zipcode'] == \"20373\")\n",
    "                         | (census_df['Zipcode'] == \"20319\")| (census_df['Zipcode'] == \"20317\")| (census_df['Zipcode'] == \"20064\")\n",
    "                         | (census_df['Zipcode'] == \"20057\")| (census_df['Zipcode'] == \"20052\")| (census_df['Zipcode'] == \"20037\")\n",
    "                         | (census_df['Zipcode'] == \"20036\")| (census_df['Zipcode'] == \"20032\")| (census_df['Zipcode'] == \"20024\")\n",
    "                         | (census_df['Zipcode'] == \"20020\")| (census_df['Zipcode'] == \"20019\")| (census_df['Zipcode'] == \"20018\")\n",
    "                         | (census_df['Zipcode'] == \"20017\")| (census_df['Zipcode'] == \"20001\")| (census_df['Zipcode'] == \"20002\")\n",
    "                         | (census_df['Zipcode'] == \"20003\")| (census_df['Zipcode'] == \"20004\")| (census_df['Zipcode'] == \"20005\")\n",
    "                         | (census_df['Zipcode'] == \"20006\")]\n",
    "census_df\n",
    "census_df['Coords']= ''\n",
    "census_df"
   ]
  },
  {
   "cell_type": "code",
   "execution_count": null,
   "metadata": {},
   "outputs": [],
   "source": [
    "census_df[\"Percent Minority Population\"] = (census_df[\"Number of Asian Residents\"]+\n",
    "                                            census_df[\"Number of Hispanic Residents\"]+\n",
    "                                            census_df[\"Number of African American Residents\"])/census_df[\"Population\"]*100\n",
    "census_df[\"Percent of Residents w/Bachelor's Degree or Higher\"] = (census_df[\"Number of Residents w/Bachelor's Degree\"]+\n",
    "                                                                   census_df[\"Number of Residents w/Graduate Degree\"])/census_df[\"Population\"]*100\n",
    "census_final = census_df[[\"Zipcode\", \"Population\",\"Per Capita Income\", \"Poverty Rate\", \"Percent of Residents w/Bachelor's Degree or Higher\", \"Percent Minority Population\"]]\n",
    "census_final[\"Zipcode\"] = census_final[\"Zipcode\"].astype(int)\n",
    "census_final"
   ]
  },
  {
   "cell_type": "code",
   "execution_count": null,
   "metadata": {},
   "outputs": [],
   "source": [
    "# Finding lat/lang so we can get a nearby address.\n",
    "\n",
    "geocode_url = 'https://maps.googleapis.com/maps/api/geocode/json'\n",
    "\n",
    "\n",
    "for index,row in census_df.iterrows():\n",
    "    location = row['Zipcode']\n",
    "    params = {\n",
    "    'address': location,\n",
    "    'key': gkey\n",
    "    }\n",
    "    response = requests.get(geocode_url, params=params)\n",
    "    response = response.json()\n",
    "\n",
    "    lat = response[\"results\"][0][\"geometry\"][\"location\"][\"lat\"]\n",
    "    lng = response[\"results\"][0][\"geometry\"][\"location\"][\"lng\"]\n",
    "    \n",
    "    origin_latlng = f\"{lat},{lng}\"\n",
    "    census_df.loc[index, 'Coords'] = origin_latlng\n",
    "\n",
    "census_df.head()"
   ]
  },
  {
   "cell_type": "code",
   "execution_count": null,
   "metadata": {},
   "outputs": [],
   "source": [
    "census_df.sort_values(\"Household Income\")"
   ]
  },
  {
   "cell_type": "code",
   "execution_count": null,
   "metadata": {},
   "outputs": [],
   "source": []
  },
  {
   "cell_type": "code",
   "execution_count": null,
   "metadata": {},
   "outputs": [],
   "source": []
  },
  {
   "cell_type": "code",
   "execution_count": null,
   "metadata": {},
   "outputs": [],
   "source": []
  }
 ],
 "metadata": {
  "anaconda-cloud": {},
  "kernelspec": {
   "display_name": "Python 3",
   "language": "python",
   "name": "python3"
  },
  "language_info": {
   "codemirror_mode": {
    "name": "ipython",
    "version": 3
   },
   "file_extension": ".py",
   "mimetype": "text/x-python",
   "name": "python",
   "nbconvert_exporter": "python",
   "pygments_lexer": "ipython3",
   "version": "3.7.4"
  }
 },
 "nbformat": 4,
 "nbformat_minor": 2
}
